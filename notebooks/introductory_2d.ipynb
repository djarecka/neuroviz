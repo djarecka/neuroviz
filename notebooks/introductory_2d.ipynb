{
 "cells": [
  {
   "cell_type": "markdown",
   "metadata": {},
   "source": [
    "# Visualization\n",
    "\n",
    "- The primary goal of visualization is to make very pretty, publication-quality figures\n",
    "    - Or, _alternatively_, to facilitate understanding of data\n",
    "- Understanding can be achieved in many ways, so it's helpful to have a range of different tools\n",
    "- An optimal visualization environment is both efficient and flexible\n",
    "\n",
    "    - Produce off-the-shelf high-quality plots very quickly\n",
    "    - With more effort, gives you full control over the plot\n",
    "\n",
    "### Visualization in Python\n",
    "\n",
    "- Python provides a wide array of options\n",
    "- Low-level and high-level plotting APIs\n",
    "- Static images vs. HTML output vs. interactive plots\n",
    "- Domain-general and domain-specific packages\n",
    "\n",
    "**ps. many pieces of this notebook have beens scavenged from other visualization notebooks.**"
   ]
  },
  {
   "cell_type": "markdown",
   "metadata": {},
   "source": [
    "First things, first, with most things in Python, we first load the relevant packages. Here we load three important packages:\n",
    "\n",
    "- [Matplotlib](https://matplotlib.org/)\n",
    "- [Pandas](http://pandas.pydata.org/)\n",
    "- [Seaborn](http://seaborn.pydata.org/)\n",
    "\n",
    "We will talk about each one as we go along.\n",
    "\n",
    "The first line in the following cell is specific to Jupyter notebooks. It tells the interpreter to capture figures and embed them in the browser. Otherwise they would end up almost in digital ether."
   ]
  },
  {
   "cell_type": "code",
   "execution_count": null,
   "metadata": {},
   "outputs": [],
   "source": [
    "%matplotlib inline\n",
    "import matplotlib.pyplot as plt\n",
    "\n",
    "import pandas as pd\n",
    "import seaborn as sns\n",
    "\n",
    "import numpy as np"
   ]
  },
  {
   "cell_type": "markdown",
   "metadata": {},
   "source": [
    "For example purposes, we will make use of a phenotypic dataset from the [ABIDE II](http://fcon_1000.projects.nitrc.org/indi/abide/abide_II.html) consortium. This multi-site dataset contains data from individuals diagnosed with Autism Spectrum Disorder (ASD) and healthy controls. We will first load the data from a single site.\n",
    "\n",
    "Let's read this from the Web using Pandas. We explicitly specific that missing values are noted in the dataset as `'n/a'`."
   ]
  },
  {
   "cell_type": "code",
   "execution_count": null,
   "metadata": {},
   "outputs": [],
   "source": [
    "df = pd.read_table('https://s3.amazonaws.com/fcp-indi/data/Projects/ABIDE2/RawData/ABIDEII-KKI_1/participants.tsv',\n",
    "                  na_values=['n/a'])"
   ]
  },
  {
   "cell_type": "markdown",
   "metadata": {},
   "source": [
    "In the following cell we remove all columns that have missing values."
   ]
  },
  {
   "cell_type": "code",
   "execution_count": null,
   "metadata": {},
   "outputs": [],
   "source": [
    "sub_df = df.dropna(axis=1)\n",
    "sub_df.head()"
   ]
  },
  {
   "cell_type": "markdown",
   "metadata": {},
   "source": [
    "Using the `keys` method we can look at all the column headings that are left"
   ]
  },
  {
   "cell_type": "code",
   "execution_count": null,
   "metadata": {},
   "outputs": [],
   "source": [
    "list(sub_df.keys())"
   ]
  },
  {
   "cell_type": "markdown",
   "metadata": {
    "solution2": "hidden",
    "solution2_first": true
   },
   "source": [
    "## Exercise 1:\n",
    "\n",
    "Load the following two datasets into two different variables (`df_ohsu` and `df_nyu`), containing only columns with no missing values, and then use the head command display each one.\n",
    "\n",
    "1. https://s3.amazonaws.com/fcp-indi/data/Projects/ABIDE2/RawData/ABIDEII-OHSU_1/participants.tsv\n",
    "2. https://s3.amazonaws.com/fcp-indi/data/Projects/ABIDE2/RawData/ABIDEII-NYU_1/participants.tsv"
   ]
  },
  {
   "cell_type": "code",
   "execution_count": null,
   "metadata": {
    "solution2": "hidden"
   },
   "outputs": [],
   "source": [
    "df_ohsu = pd.read_table('https://s3.amazonaws.com/fcp-indi/data/Projects/ABIDE2/RawData/ABIDEII-OHSU_1/participants.tsv',\n",
    "                        na_values=['n/a']).dropna(axis=1)\n",
    "df_nyu = pd.read_table('https://s3.amazonaws.com/fcp-indi/data/Projects/ABIDE2/RawData/ABIDEII-NYU_1/participants.tsv',\n",
    "                        na_values=['n/a']).dropna(axis=1)"
   ]
  },
  {
   "cell_type": "code",
   "execution_count": null,
   "metadata": {
    "solution2": "hidden"
   },
   "outputs": [],
   "source": [
    "df_ohsu.head()"
   ]
  },
  {
   "cell_type": "code",
   "execution_count": null,
   "metadata": {
    "solution2": "hidden"
   },
   "outputs": [],
   "source": [
    "df_nyu.head()"
   ]
  },
  {
   "cell_type": "code",
   "execution_count": null,
   "metadata": {},
   "outputs": [],
   "source": [
    "# Load and filter the data"
   ]
  },
  {
   "cell_type": "code",
   "execution_count": null,
   "metadata": {},
   "outputs": [],
   "source": [
    "# Display df_ohsu"
   ]
  },
  {
   "cell_type": "code",
   "execution_count": null,
   "metadata": {},
   "outputs": [],
   "source": [
    "# Display df_nyu"
   ]
  },
  {
   "cell_type": "markdown",
   "metadata": {},
   "source": [
    "We will come back to these two datasets later. First, we focus on the original dataset (`sub_df`) to see how we can visualize the information.\n",
    "\n",
    "We start with matplotlib."
   ]
  },
  {
   "cell_type": "markdown",
   "metadata": {},
   "source": [
    "## Matplotlib\n",
    "\n",
    "- The most widely-used Python plotting library\n",
    "- Initially modeled on MATLAB's plotting system\n",
    "- Designed to provide complete control over a plot"
   ]
  },
  {
   "cell_type": "code",
   "execution_count": null,
   "metadata": {},
   "outputs": [],
   "source": [
    "plt.figure(figsize=(10, 5))\n",
    "plt.scatter(sub_df['age_at_scan '], sub_df.viq)\n",
    "plt.xlabel('Age at scan')\n",
    "plt.ylabel('Verbal IQ')\n",
    "plt.title('Comparing Age and Verbal IQ');"
   ]
  },
  {
   "cell_type": "code",
   "execution_count": null,
   "metadata": {},
   "outputs": [],
   "source": [
    "# Set up a figure with 3 columns\n",
    "fig, axes = plt.subplots(1, 3, figsize=(15, 4))\n",
    "\n",
    "# Scatter plot in top left\n",
    "axes[0].scatter(sub_df['age_at_scan '], sub_df['viq'])\n",
    "axes[0].axis('off')\n",
    "\n",
    "# Mean species petal widths in top right\n",
    "means = sub_df.groupby('dx_group')['viq'].mean()\n",
    "axes[1].bar(np.arange(len(means))+1, means)\n",
    "\n",
    "# Note how **broken** this is without additional code\n",
    "axes[1].set_xticklabels(means.index)\n",
    "\n",
    "# More scatter plots, breaking up by species\n",
    "colors = ['blue', 'green', 'red']\n",
    "for i, (s, grp) in enumerate(sub_df.groupby('dx_group')):\n",
    "    axes[2].scatter(grp['age_at_scan '], grp['viq'], c=colors[i])"
   ]
  },
  {
   "cell_type": "markdown",
   "metadata": {
    "solution2": "hidden",
    "solution2_first": true
   },
   "source": [
    "## Exercise 2: \n",
    "\n",
    "Create a figure with a single axes and replot the scatterplot on the right to group by `sex` instead of `dx_group`. \n",
    "- Set the figure size to a ratio of 8 (wide) x 5 (height)\n",
    "- Use the colors `red` and `gray`\n",
    "- Set the opacity of the points to 0.5\n",
    "- Label the axes\n",
    "- Add a legend"
   ]
  },
  {
   "cell_type": "code",
   "execution_count": null,
   "metadata": {
    "solution2": "hidden"
   },
   "outputs": [],
   "source": [
    "# More scatter plots, breaking up by species\n",
    "plt.figure(figsize=(8, 5))\n",
    "colors = ['red', 'black']\n",
    "for i, (s, grp) in enumerate(sub_df.groupby('sex')):\n",
    "    plt.scatter(grp['age_at_scan '], grp['viq'], c=colors[i], alpha=0.5)\n",
    "plt.xlabel('Age at scan')\n",
    "plt.xlabel('Verbal IQ')\n",
    "plt.legend(['Male', 'Female']);"
   ]
  },
  {
   "cell_type": "code",
   "execution_count": null,
   "metadata": {},
   "outputs": [],
   "source": [
    "# Create solution here"
   ]
  },
  {
   "cell_type": "markdown",
   "metadata": {},
   "source": [
    "#### You can reuse code directly from the matplotlib gallery."
   ]
  },
  {
   "cell_type": "code",
   "execution_count": null,
   "metadata": {},
   "outputs": [],
   "source": [
    "# Demo taken from http://matplotlib.org/examples/mplot3d/subplot3d_demo.html\n",
    "\n",
    "from mpl_toolkits.mplot3d.axes3d import Axes3D\n",
    "import matplotlib.pyplot as plt\n",
    "\n",
    "\n",
    "# imports specific to the plots in this example\n",
    "import numpy as np\n",
    "from matplotlib import cm\n",
    "from mpl_toolkits.mplot3d.axes3d import get_test_data\n",
    "\n",
    "# Twice as wide as it is tall.\n",
    "fig = plt.figure(figsize=plt.figaspect(0.33))\n",
    "\n",
    "#---- First subplot\n",
    "ax = fig.add_subplot(1, 2, 1, projection='3d')\n",
    "X = np.arange(-5, 5, 0.25)\n",
    "Y = np.arange(-5, 5, 0.25)\n",
    "X, Y = np.meshgrid(X, Y)\n",
    "R = np.sqrt(X**2 + Y**2)\n",
    "Z = np.sin(R)\n",
    "surf = ax.plot_surface(X, Y, Z, rstride=1, cstride=1, cmap=cm.coolwarm,\n",
    "                       linewidth=0, antialiased=False)\n",
    "ax.set_zlim3d(-1.01, 1.01)\n",
    "\n",
    "fig.colorbar(surf, shrink=0.5, aspect=10)\n",
    "\n",
    "#---- Second subplot\n",
    "ax = fig.add_subplot(1, 2, 2, projection='3d')\n",
    "X, Y, Z = get_test_data(0.05)\n",
    "ax.plot_wireframe(X, Y, Z, rstride=10, cstride=10);"
   ]
  },
  {
   "cell_type": "markdown",
   "metadata": {},
   "source": [
    "## Matplotlib: pros\n",
    "* Provides low-level control over virtually every element of a plot\n",
    "* Completely object-oriented API; plot components can be easily modified\n",
    "* Close integration with numpy\n",
    "* Extremely active community\n",
    "* Tons of functionality (figure compositing, layering, annotation, coordinate transformations, color mapping, etc.)\n",
    "\n",
    "From [1](https://nbviewer.jupyter.org/github/neurohackweek/visualization-in-python/blob/58724f6ee08f33cffbbab11a1295c03a8379e9b7/visualization-in-python.ipynb) "
   ]
  },
  {
   "cell_type": "markdown",
   "metadata": {},
   "source": [
    "## Matplotlib: cons\n",
    "* Steep learning curve\n",
    "* API is extremely unpredictable -- redundancy and inconsistency are common\n",
    "    * Some simple things are hard; some complex things are easy\n",
    "* Lacks systematicity/organizing syntax--every plot is its own little world\n",
    "* Simple plots often require a lot of code\n",
    "* Default styles are kind of ugly\n",
    "* The documentation... *why*?\n",
    "\n",
    "From [1](https://nbviewer.jupyter.org/github/neurohackweek/visualization-in-python/blob/58724f6ee08f33cffbbab11a1295c03a8379e9b7/visualization-in-python.ipynb) "
   ]
  },
  {
   "cell_type": "markdown",
   "metadata": {},
   "source": [
    "# High-level interfaces to matplotlib\n",
    "* Matplotlib is very powerful and very robust, but the API is hit-and-miss\n",
    "* Many high-level interfaces to matplotlib have been written\n",
    "    * Abstract away many of the annoying details\n",
    "    * The best of both worlds: easy generation of plots, but retain MPL's power\n",
    "* [Seaborn](https://stanford.edu/~mwaskom/software/seaborn/index.html), [ggplot](http://ggplot.yhathq.com/), pandas, etc.\n",
    "* Many domain-specific visualization tools are built on MPL (e.g., [nilearn](http://nilearn.github.io/plotting/index.html) in neuroimaging)\n",
    "\n",
    "From [1](https://nbviewer.jupyter.org/github/neurohackweek/visualization-in-python/blob/58724f6ee08f33cffbbab11a1295c03a8379e9b7/visualization-in-python.ipynb) "
   ]
  },
  {
   "cell_type": "markdown",
   "metadata": {},
   "source": [
    "# Seaborn\n",
    "\n",
    "Seaborn abstracts away many of the complexities to deal with such minutiae and provides a high level API for creating aesthetic plots. \n",
    "\n",
    "* Arguably the premier MPL interface for high-level plots\n",
    "* Generates beautiful plots in very little code\n",
    "    * Beautiful styles and color palettes\n",
    "* Wide range of supported plots\n",
    "* Modest support for structured plotting (via grids)\n",
    "* Exceptional [documentation](https://stanford.edu/~mwaskom/software/seaborn/index.html)\n",
    "* Generally the best place to start when exploring data\n",
    "* Can be quite slow (e.g., with permutation)\n",
    "\n",
    "From [1](https://nbviewer.jupyter.org/github/neurohackweek/visualization-in-python/blob/58724f6ee08f33cffbbab11a1295c03a8379e9b7/visualization-in-python.ipynb)\n",
    "\n",
    "For example, the following command auto adjusts the setting for the figure to reflect what you are using the figure for."
   ]
  },
  {
   "cell_type": "code",
   "execution_count": null,
   "metadata": {},
   "outputs": [],
   "source": [
    "# Adjust the context of the plot\n",
    "sns.set_context('poster') # http://seaborn.pydata.org/tutorial/aesthetics.html#scaling-plot-elements\n",
    "sns.set_palette('pastel') # http://seaborn.pydata.org/tutorial/color_palettes.html"
   ]
  },
  {
   "cell_type": "code",
   "execution_count": null,
   "metadata": {},
   "outputs": [],
   "source": [
    "# But still use matplotlib to do the plotting\n",
    "\n",
    "plt.figure(figsize=(10, 5))\n",
    "plt.scatter(sub_df['age_at_scan '], sub_df.viq)\n",
    "plt.xlabel('Age at scan')\n",
    "plt.ylabel('Verbal IQ')\n",
    "plt.title('Comparing Age and Verbal IQ');"
   ]
  },
  {
   "cell_type": "markdown",
   "metadata": {
    "solution2": "hidden",
    "solution2_first": true
   },
   "source": [
    "## Exercise: 3: Compare the figure above to the previous figure. What is different?"
   ]
  },
  {
   "cell_type": "markdown",
   "metadata": {
    "solution2": "hidden"
   },
   "source": [
    "- The font size of each label\n",
    "- The size of the points\n",
    "- The color palette"
   ]
  },
  {
   "cell_type": "markdown",
   "metadata": {},
   "source": [
    "Now let's redo the scatter plot in seaborn style."
   ]
  },
  {
   "cell_type": "code",
   "execution_count": null,
   "metadata": {},
   "outputs": [],
   "source": [
    "sns.jointplot(x='age_at_scan ', y='viq', data=sub_df, stat_func=None);"
   ]
  },
  {
   "cell_type": "markdown",
   "metadata": {
    "solution2": "hidden",
    "solution2_first": true
   },
   "source": [
    "## Exercise 4: \n",
    "\n",
    "Given the dataset we are using, what would you change to provide a better understanding of the data."
   ]
  },
  {
   "cell_type": "markdown",
   "metadata": {
    "solution2": "hidden"
   },
   "source": [
    "Information about:\n",
    "\n",
    "- Diagnosis\n",
    "- Sex\n",
    "\n",
    "should be encoded separately."
   ]
  },
  {
   "cell_type": "markdown",
   "metadata": {},
   "source": [
    "One way to do this with seaborn is to use a more general interface called the [FacetGrid](https://seaborn.pydata.org/generated/seaborn.FacetGrid.html#seaborn.FacetGrid).\n",
    "\n",
    "Let's replot the figure while learning about a few new commands."
   ]
  },
  {
   "cell_type": "code",
   "execution_count": null,
   "metadata": {},
   "outputs": [],
   "source": [
    "sns.set(style=\"whitegrid\", palette=\"pastel\", color_codes=True)\n",
    "sns.set_context('poster')\n",
    "\n",
    "kws = dict(s=100, alpha=0.75, linewidth=0.15, edgecolor=\"k\")\n",
    "\n",
    "g = sns.FacetGrid(sub_df, col=\"sex\", hue=\"dx_group\", palette=\"Set1\",\n",
    "                  hue_order=[1, 2], size=5.5)\n",
    "g = (g.map(plt.scatter, \"age_at_scan \", \"viq\", **kws).add_legend())"
   ]
  },
  {
   "cell_type": "markdown",
   "metadata": {},
   "source": [
    "With just a few lines of code, note how much control you have over the figure."
   ]
  },
  {
   "cell_type": "markdown",
   "metadata": {
    "solution2": "hidden",
    "solution2_first": true
   },
   "source": [
    "## Exercise 5:\n",
    "\n",
    "Using a [pairwise plot](http://seaborn.pydata.org/generated/seaborn.pairplot.html#seaborn.pairplot), compare the distributions of `age`, `viq`, and `piq` with respect to `dx_group`.\n",
    "\n",
    "- Set a palette\n",
    "- Set style to `ticks`\n",
    "- Suppress the `dx_group` variable from being on the plot"
   ]
  },
  {
   "cell_type": "code",
   "execution_count": null,
   "metadata": {
    "solution2": "hidden"
   },
   "outputs": [],
   "source": [
    "sns.set_context('poster')\n",
    "sns.set(style=\"ticks\")\n",
    "sns.set_palette(sns.xkcd_palette([\"windows blue\", \"amber\"]))\n",
    "sns.pairplot(df[['age_at_scan ', 'viq', 'piq', 'dx_group']], vars=['age_at_scan ', 'viq', 'piq'], hue=\"dx_group\");"
   ]
  },
  {
   "cell_type": "code",
   "execution_count": null,
   "metadata": {},
   "outputs": [],
   "source": [
    "# Create solution here"
   ]
  },
  {
   "cell_type": "markdown",
   "metadata": {
    "solution2": "hidden",
    "solution2_first": true
   },
   "source": [
    "## Exercise 6:\n",
    "\n",
    "Using a [violin plot](http://seaborn.pydata.org/generated/seaborn.violinplot.html#seaborn.violinplot) separate out `viq` as a function of `sex` and `dx_group`.\n",
    "\n",
    "- Different `dx_group` should be on each half of each violin\n",
    "- The x-axis should reflect the different `sex` categories."
   ]
  },
  {
   "cell_type": "code",
   "execution_count": null,
   "metadata": {
    "solution2": "hidden"
   },
   "outputs": [],
   "source": [
    "# Draw a nested violinplot and split the violins for easier comparison\n",
    "sns.set(style=\"whitegrid\", palette=\"pastel\", color_codes=True, rc={\"figure.figsize\": (10, 5)})\n",
    "sns.set_context('poster')\n",
    "sns.violinplot(x=\"sex\", y=\"viq\", hue=\"dx_group\", data=sub_df, split=True,\n",
    "               inner=\"quart\", palette={1: \"b\", 2: \"y\"})\n",
    "sns.despine(left=True)"
   ]
  },
  {
   "cell_type": "code",
   "execution_count": null,
   "metadata": {},
   "outputs": [],
   "source": [
    "# Create solution here"
   ]
  },
  {
   "cell_type": "markdown",
   "metadata": {},
   "source": [
    "# Altair\n",
    "* \"A declarative statistical visualization library for Python\"\n",
    "* Similar philosophy to ggplot2, in that it's based on a generative syntax\n",
    "* Altair itself doesn't do any plotting\n",
    "    * Produces a Vega-Lite JSON specification\n",
    "    * Completely portable\n",
    "* Looks very promising, but still in early stages of development\n",
    "\n",
    "From [1](https://nbviewer.jupyter.org/github/neurohackweek/visualization-in-python/blob/58724f6ee08f33cffbbab11a1295c03a8379e9b7/visualization-in-python.ipynb)"
   ]
  },
  {
   "cell_type": "code",
   "execution_count": null,
   "metadata": {},
   "outputs": [],
   "source": [
    "from altair import Chart, X, Y, Scale, Color\n",
    "\n",
    "Chart(sub_df).mark_circle(opacity=0.7, size=100).encode(\n",
    "    column='sex',\n",
    "    x=X('age_at_scan ',\n",
    "        scale=Scale(\n",
    "            zero=False,\n",
    "        )),\n",
    "    y=Y('viq',\n",
    "        scale=Scale(\n",
    "            zero=False,\n",
    "        )),\n",
    "    color='dx_group',\n",
    ").configure_cell(\n",
    "    height=300.0,\n",
    "    width=300.0,\n",
    ")"
   ]
  },
  {
   "cell_type": "markdown",
   "metadata": {
    "solution2": "hidden",
    "solution2_first": true
   },
   "source": [
    "## Exercise 7:\n",
    "\n",
    "Use the Altair gallery to perform a binned scatterplot of age and IQ."
   ]
  },
  {
   "cell_type": "code",
   "execution_count": null,
   "metadata": {
    "solution2": "hidden"
   },
   "outputs": [],
   "source": [
    "from altair import Bin\n",
    "\n",
    "Chart(sub_df).mark_point().encode(\n",
    "    size='count(*):Q',\n",
    "    x=X('age_at_scan :Q',\n",
    "        bin=Bin(\n",
    "            maxbins=10.0,\n",
    "        ),\n",
    "    ),\n",
    "    y=Y('viq:Q',\n",
    "        bin=Bin(\n",
    "            maxbins=10.0,\n",
    "        ),\n",
    "    ),\n",
    ")"
   ]
  },
  {
   "cell_type": "code",
   "execution_count": null,
   "metadata": {},
   "outputs": [],
   "source": [
    "# Create solution here"
   ]
  }
 ],
 "metadata": {
  "kernelspec": {
   "display_name": "Python 3",
   "language": "python",
   "name": "python3"
  },
  "language_info": {
   "codemirror_mode": {
    "name": "ipython",
    "version": 3
   },
   "file_extension": ".py",
   "mimetype": "text/x-python",
   "name": "python",
   "nbconvert_exporter": "python",
   "pygments_lexer": "ipython3",
   "version": "3.6.2"
  }
 },
 "nbformat": 4,
 "nbformat_minor": 2
}
